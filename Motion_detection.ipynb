{
 "cells": [
  {
   "cell_type": "code",
   "execution_count": 2,
   "metadata": {},
   "outputs": [],
   "source": [
    "import cv2"
   ]
  },
  {
   "cell_type": "code",
   "execution_count": 3,
   "metadata": {},
   "outputs": [],
   "source": [
    "cap=cv2.VideoCapture(0)"
   ]
  },
  {
   "cell_type": "code",
   "execution_count": 4,
   "metadata": {},
   "outputs": [],
   "source": [
    "tp1=cap.read()[1]\n",
    "tp2=cap.read()[1]   #capturing 3 images\n",
    "tp3=cap.read()[1]"
   ]
  },
  {
   "cell_type": "code",
   "execution_count": 5,
   "metadata": {},
   "outputs": [],
   "source": [
    "gray1=cv2.cvtColor(tp1,cv2.COLOR_BGR2GRAY)\n",
    "gray2=cv2.cvtColor(tp2,cv2.COLOR_BGR2GRAY)  #converting images to gray\n",
    "gray3=cv2.cvtColor(tp3,cv2.COLOR_BGR2GRAY)"
   ]
  },
  {
   "cell_type": "code",
   "execution_count": 6,
   "metadata": {},
   "outputs": [],
   "source": [
    "def image_diff(t1,t2,t3):\n",
    "    imgdiff1=cv2.absdiff(t1,t2)\n",
    "    imgdiff2=cv2.absdiff(t2,t3)\n",
    "    finalimg_diff=cv2.bitwise_and(imgdiff1,imgdiff2)\n",
    "    return finalimg_diff\n"
   ]
  },
  {
   "cell_type": "code",
   "execution_count": 7,
   "metadata": {},
   "outputs": [],
   "source": [
    "while cap.isOpened():          #while camera is opened\n",
    "    s,f=cap.read()\n",
    "    img_abs=image_diff(gray1,gray2,gray3)  #calling function\n",
    "    gray1=gray2\n",
    "    gray2=gray3\n",
    "    gray3=cv2.cvtColor(f,cv2.COLOR_BGR2GRAY)\n",
    "    cv2.imshow('motion',f)\n",
    "    cv2.imshow('motion1',img_abs)\n",
    "    if cv2.waitKey(10) & 0xff==ord('q'):\n",
    "        break\n",
    "cv2.waitKey(0)        \n",
    "cv2.destroyAllWindows()\n",
    "cap.release()"
   ]
  },
  {
   "cell_type": "code",
   "execution_count": null,
   "metadata": {},
   "outputs": [],
   "source": []
  },
  {
   "cell_type": "code",
   "execution_count": null,
   "metadata": {},
   "outputs": [],
   "source": []
  },
  {
   "cell_type": "code",
   "execution_count": null,
   "metadata": {},
   "outputs": [],
   "source": []
  }
 ],
 "metadata": {
  "kernelspec": {
   "display_name": "Python 3",
   "language": "python",
   "name": "python3"
  }
 },
 "nbformat": 4,
 "nbformat_minor": 2
}
