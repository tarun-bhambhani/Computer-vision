{
 "cells": [
  {
   "cell_type": "code",
   "execution_count": 25,
   "metadata": {},
   "outputs": [],
   "source": [
    "import cv2"
   ]
  },
  {
   "cell_type": "code",
   "execution_count": 26,
   "metadata": {},
   "outputs": [],
   "source": [
    "img=cv2.imread('CAR2.jpg',1)"
   ]
  },
  {
   "cell_type": "code",
   "execution_count": 27,
   "metadata": {},
   "outputs": [],
   "source": [
    "x=carhaar=cv2.CascadeClassifier('car.xml') #from github(harrcascade->front_face......default)"
   ]
  },
  {
   "cell_type": "code",
   "execution_count": 28,
   "metadata": {},
   "outputs": [
    {
     "name": "stdout",
     "output_type": "stream",
     "text": [
      "[[  97 1270  238  238]\n",
      " [1799 1223   85   85]]\n"
     ]
    }
   ],
   "source": [
    "car_only =carhaar.detectMultiScale(img,1.15,5)\n",
    "print(car_only)"
   ]
  },
  {
   "cell_type": "code",
   "execution_count": 29,
   "metadata": {},
   "outputs": [],
   "source": [
    "p=[]\n",
    "for i in range(car_only.shape[1]):\n",
    "    p.append(car_only[0][i])\n",
    "q=[]\n",
    "\n",
    "for i in range(car_only.shape[1]):\n",
    "    q.append(car_only[1][i])\n"
   ]
  },
  {
   "cell_type": "code",
   "execution_count": 30,
   "metadata": {},
   "outputs": [
    {
     "data": {
      "text/plain": [
       "array([[[106, 110, 104],\n",
       "        [101, 105, 100],\n",
       "        [103, 106, 104],\n",
       "        ...,\n",
       "        [112, 107, 106],\n",
       "        [112, 107, 106],\n",
       "        [110, 105, 104]],\n",
       "\n",
       "       [[112, 116, 110],\n",
       "        [105, 109, 104],\n",
       "        [108, 111, 109],\n",
       "        ...,\n",
       "        [119, 114, 113],\n",
       "        [120, 115, 114],\n",
       "        [118, 113, 112]],\n",
       "\n",
       "       [[108, 111, 102],\n",
       "        [114, 116, 110],\n",
       "        [109, 110, 106],\n",
       "        ...,\n",
       "        [115, 110, 109],\n",
       "        [116, 111, 110],\n",
       "        [113, 108, 107]],\n",
       "\n",
       "       ...,\n",
       "\n",
       "       [[124, 162, 194],\n",
       "        [126, 164, 196],\n",
       "        [125, 163, 195],\n",
       "        ...,\n",
       "        [137, 122, 113],\n",
       "        [140, 125, 116],\n",
       "        [149, 135, 123]],\n",
       "\n",
       "       [[126, 164, 196],\n",
       "        [127, 165, 197],\n",
       "        [124, 162, 194],\n",
       "        ...,\n",
       "        [128, 113, 104],\n",
       "        [135, 120, 111],\n",
       "        [145, 131, 119]],\n",
       "\n",
       "       [[130, 165, 198],\n",
       "        [130, 165, 198],\n",
       "        [124, 159, 192],\n",
       "        ...,\n",
       "        [138, 123, 114],\n",
       "        [138, 123, 114],\n",
       "        [144, 130, 118]]], dtype=uint8)"
      ]
     },
     "execution_count": 30,
     "metadata": {},
     "output_type": "execute_result"
    }
   ],
   "source": [
    "x,y,w,h=p\n",
    "cv2.rectangle(img,(x,y),(x+w,y+h),(0,0,200),2)\n",
    "x,y,w,h=q\n",
    "cv2.rectangle(img,(x,y),(x+w,y+h),(0,0,200),2)"
   ]
  },
  {
   "cell_type": "code",
   "execution_count": 31,
   "metadata": {},
   "outputs": [],
   "source": [
    "img=cv2.resize(img,(980,600))"
   ]
  },
  {
   "cell_type": "raw",
   "metadata": {},
   "source": [
    "## "
   ]
  },
  {
   "cell_type": "code",
   "execution_count": 32,
   "metadata": {},
   "outputs": [],
   "source": [
    "cv2.imshow('face_virat',img)\n",
    "cv2.waitKey(0)\n",
    "cv2.destroyAllWindows()"
   ]
  },
  {
   "cell_type": "code",
   "execution_count": 33,
   "metadata": {},
   "outputs": [
    {
     "ename": "ModuleNotFoundError",
     "evalue": "No module named 'boto3'",
     "output_type": "error",
     "traceback": [
      "\u001b[1;31m---------------------------------------------------------------------------\u001b[0m",
      "\u001b[1;31mModuleNotFoundError\u001b[0m                       Traceback (most recent call last)",
      "\u001b[1;32m<ipython-input-33-5c43c86c018e>\u001b[0m in \u001b[0;36m<module>\u001b[1;34m\u001b[0m\n\u001b[1;32m----> 1\u001b[1;33m \u001b[1;32mimport\u001b[0m \u001b[0mboto3\u001b[0m\u001b[1;33m\u001b[0m\u001b[1;33m\u001b[0m\u001b[0m\n\u001b[0m",
      "\u001b[1;31mModuleNotFoundError\u001b[0m: No module named 'boto3'"
     ]
    }
   ],
   "source": [
    "import boto3"
   ]
  },
  {
   "cell_type": "code",
   "execution_count": 34,
   "metadata": {},
   "outputs": [
    {
     "name": "stdout",
     "output_type": "stream",
     "text": [
      "Collecting boto3\n",
      "  Downloading https://files.pythonhosted.org/packages/3a/47/c7c92c453593a7b2a062bde3c5f714a4c5c12763f97b8b9c7a7480932bb1/boto3-1.9.167-py2.py3-none-any.whl (128kB)\n",
      "Collecting botocore<1.13.0,>=1.12.167 (from boto3)\n",
      "  Downloading https://files.pythonhosted.org/packages/7b/00/8437c07663969bd219aab33299f17b9d0ecd82622f4e19f482483efbfc6d/botocore-1.12.167-py2.py3-none-any.whl (5.5MB)\n",
      "Collecting s3transfer<0.3.0,>=0.2.0 (from boto3)\n",
      "  Downloading https://files.pythonhosted.org/packages/16/8a/1fc3dba0c4923c2a76e1ff0d52b305c44606da63f718d14d3231e21c51b0/s3transfer-0.2.1-py2.py3-none-any.whl (70kB)\n",
      "Collecting jmespath<1.0.0,>=0.7.1 (from boto3)\n",
      "  Downloading https://files.pythonhosted.org/packages/83/94/7179c3832a6d45b266ddb2aac329e101367fbdb11f425f13771d27f225bb/jmespath-0.9.4-py2.py3-none-any.whl\n",
      "Requirement already satisfied: python-dateutil<3.0.0,>=2.1; python_version >= \"2.7\" in c:\\users\\user\\anaconda3\\lib\\site-packages (from botocore<1.13.0,>=1.12.167->boto3) (2.8.0)\n",
      "Requirement already satisfied: docutils>=0.10 in c:\\users\\user\\anaconda3\\lib\\site-packages (from botocore<1.13.0,>=1.12.167->boto3) (0.14)\n",
      "Requirement already satisfied: urllib3<1.26,>=1.20; python_version >= \"3.4\" in c:\\users\\user\\anaconda3\\lib\\site-packages (from botocore<1.13.0,>=1.12.167->boto3) (1.24.1)\n",
      "Requirement already satisfied: six>=1.5 in c:\\users\\user\\anaconda3\\lib\\site-packages (from python-dateutil<3.0.0,>=2.1; python_version >= \"2.7\"->botocore<1.13.0,>=1.12.167->boto3) (1.12.0)\n",
      "Installing collected packages: jmespath, botocore, s3transfer, boto3\n",
      "Successfully installed boto3-1.9.167 botocore-1.12.167 jmespath-0.9.4 s3transfer-0.2.1\n",
      "Note: you may need to restart the kernel to use updated packages.\n"
     ]
    }
   ],
   "source": [
    "pip install boto3\n"
   ]
  },
  {
   "cell_type": "code",
   "execution_count": 35,
   "metadata": {},
   "outputs": [],
   "source": [
    "import boto3"
   ]
  },
  {
   "cell_type": "code",
   "execution_count": 36,
   "metadata": {},
   "outputs": [
    {
     "name": "stdout",
     "output_type": "stream",
     "text": [
      "Requirement already satisfied: nltk in c:\\users\\user\\anaconda3\\lib\\site-packages (3.4)\n",
      "Requirement already satisfied: six in c:\\users\\user\\anaconda3\\lib\\site-packages (from nltk) (1.12.0)\n",
      "Requirement already satisfied: singledispatch in c:\\users\\user\\anaconda3\\lib\\site-packages (from nltk) (3.4.0.3)\n",
      "Note: you may need to restart the kernel to use updated packages.\n"
     ]
    }
   ],
   "source": [
    "pip install nltk\n"
   ]
  },
  {
   "cell_type": "code",
   "execution_count": null,
   "metadata": {},
   "outputs": [],
   "source": []
  },
  {
   "cell_type": "code",
   "execution_count": null,
   "metadata": {},
   "outputs": [],
   "source": []
  }
 ],
 "metadata": {
  "kernelspec": {
   "display_name": "Python 3",
   "language": "python",
   "name": "python3"
  },
  "language_info": {
   "codemirror_mode": {
    "name": "ipython",
    "version": 3
   },
   "file_extension": ".py",
   "mimetype": "text/x-python",
   "name": "python",
   "nbconvert_exporter": "python",
   "pygments_lexer": "ipython3",
   "version": "3.7.3"
  }
 },
 "nbformat": 4,
 "nbformat_minor": 2
}
