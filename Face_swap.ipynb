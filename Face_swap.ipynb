{
 "cells": [
  {
   "cell_type": "code",
   "execution_count": 147,
   "metadata": {},
   "outputs": [],
   "source": [
    "import cv2"
   ]
  },
  {
   "cell_type": "code",
   "execution_count": 148,
   "metadata": {},
   "outputs": [],
   "source": [
    "img=cv2.imread('virat-dhoni.jpg',1)"
   ]
  },
  {
   "cell_type": "code",
   "execution_count": 149,
   "metadata": {},
   "outputs": [],
   "source": [
    "img1=img.copy()"
   ]
  },
  {
   "cell_type": "code",
   "execution_count": 150,
   "metadata": {},
   "outputs": [],
   "source": [
    "x=facehaar=cv2.CascadeClassifier('face.xml') #from github(harrcascade->front_face......default)"
   ]
  },
  {
   "cell_type": "code",
   "execution_count": 151,
   "metadata": {},
   "outputs": [
    {
     "name": "stdout",
     "output_type": "stream",
     "text": [
      "[[228  71 160 160]\n",
      " [ 68  75 213 213]]\n"
     ]
    }
   ],
   "source": [
    "face_only =facehaar.detectMultiScale(img,1.15,5)\n",
    "print(face_only)"
   ]
  },
  {
   "cell_type": "code",
   "execution_count": 152,
   "metadata": {},
   "outputs": [
    {
     "data": {
      "text/plain": [
       "list"
      ]
     },
     "execution_count": 152,
     "metadata": {},
     "output_type": "execute_result"
    }
   ],
   "source": [
    "type(p)"
   ]
  },
  {
   "cell_type": "code",
   "execution_count": 153,
   "metadata": {},
   "outputs": [],
   "source": [
    "p=[]\n",
    "for i in range(face_only.shape[1]):\n",
    "    p.append(face_only[0][i])\n",
    "q=[]\n",
    "\n",
    "for i in range(face_only.shape[1]):\n",
    "    q.append(face_only[1][i])\n"
   ]
  },
  {
   "cell_type": "code",
   "execution_count": 154,
   "metadata": {},
   "outputs": [
    {
     "data": {
      "text/plain": [
       "array([[[219, 233, 251],\n",
       "        [219, 233, 251],\n",
       "        [219, 233, 251],\n",
       "        ...,\n",
       "        [186, 195, 208],\n",
       "        [187, 196, 209],\n",
       "        [186, 195, 208]],\n",
       "\n",
       "       [[219, 233, 251],\n",
       "        [219, 233, 251],\n",
       "        [219, 233, 251],\n",
       "        ...,\n",
       "        [191, 200, 213],\n",
       "        [191, 200, 213],\n",
       "        [191, 200, 213]],\n",
       "\n",
       "       [[219, 233, 251],\n",
       "        [219, 233, 251],\n",
       "        [219, 233, 251],\n",
       "        ...,\n",
       "        [188, 200, 212],\n",
       "        [187, 199, 211],\n",
       "        [187, 199, 211]],\n",
       "\n",
       "       ...,\n",
       "\n",
       "       [[214,  26,   1],\n",
       "        [214,  26,   1],\n",
       "        [214,  26,   1],\n",
       "        ...,\n",
       "        [ 50,   9,   6],\n",
       "        [ 50,   9,   7],\n",
       "        [ 50,   9,   6]],\n",
       "\n",
       "       [[214,  26,   1],\n",
       "        [214,  26,   1],\n",
       "        [214,  26,   1],\n",
       "        ...,\n",
       "        [ 48,   9,   7],\n",
       "        [ 48,   8,   9],\n",
       "        [ 48,   9,   7]],\n",
       "\n",
       "       [[214,  26,   1],\n",
       "        [214,  26,   1],\n",
       "        [214,  26,   1],\n",
       "        ...,\n",
       "        [ 48,   8,   9],\n",
       "        [ 48,   8,   9],\n",
       "        [ 48,   8,   9]]], dtype=uint8)"
      ]
     },
     "execution_count": 154,
     "metadata": {},
     "output_type": "execute_result"
    }
   ],
   "source": [
    "x,y,w,h=p\n",
    "cv2.rectangle(img,(x,y),(x+w,y+h),(0,0,200),2)\n",
    "x,y,w,h=q\n",
    "cv2.rectangle(img,(x,y),(x+w,y+h),(0,0,200),2)"
   ]
  },
  {
   "cell_type": "code",
   "execution_count": 155,
   "metadata": {},
   "outputs": [],
   "source": [
    "cv2.imshow('face',img)\n",
    "cv2.waitKey(0)\n",
    "cv2.destroyAllWindows()"
   ]
  },
  {
   "cell_type": "code",
   "execution_count": 156,
   "metadata": {},
   "outputs": [],
   "source": [
    "#dhoni=img[75:288,68:281]"
   ]
  },
  {
   "cell_type": "code",
   "execution_count": 157,
   "metadata": {},
   "outputs": [],
   "source": [
    "virat=img[75:288,68:281]\n",
    "cv2.imshow('face_virat',virat)\n",
    "cv2.waitKey(0)\n",
    "cv2.destroyAllWindows()"
   ]
  },
  {
   "cell_type": "code",
   "execution_count": 158,
   "metadata": {},
   "outputs": [],
   "source": [
    "img1[71:284,228:441]=virat"
   ]
  },
  {
   "cell_type": "code",
   "execution_count": 159,
   "metadata": {},
   "outputs": [],
   "source": [
    "cv2.imshow('face_virat',virat)\n",
    "cv2.waitKey(0)\n",
    "cv2.destroyAllWindows()"
   ]
  },
  {
   "cell_type": "code",
   "execution_count": 160,
   "metadata": {},
   "outputs": [
    {
     "data": {
      "text/plain": [
       "(462, 480, 3)"
      ]
     },
     "execution_count": 160,
     "metadata": {},
     "output_type": "execute_result"
    }
   ],
   "source": [
    "img1.shape"
   ]
  },
  {
   "cell_type": "code",
   "execution_count": 161,
   "metadata": {},
   "outputs": [],
   "source": [
    "cv2.imshow('face_virat',img1)\n",
    "cv2.waitKey(0)\n",
    "cv2.destroyAllWindows()"
   ]
  },
  {
   "cell_type": "code",
   "execution_count": 146,
   "metadata": {},
   "outputs": [
    {
     "data": {
      "text/plain": [
       "True"
      ]
     },
     "execution_count": 146,
     "metadata": {},
     "output_type": "execute_result"
    }
   ],
   "source": [
    "cv2.imwrite('swapped.png',img1)"
   ]
  },
  {
   "cell_type": "code",
   "execution_count": null,
   "metadata": {},
   "outputs": [],
   "source": []
  }
 ],
 "metadata": {
  "kernelspec": {
   "display_name": "Python 3",
   "language": "python",
   "name": "python3"
  },
  "language_info": {
   "codemirror_mode": {
    "name": "ipython",
    "version": 3
   },
   "file_extension": ".py",
   "mimetype": "text/x-python",
   "name": "python",
   "nbconvert_exporter": "python",
   "pygments_lexer": "ipython3",
   "version": "3.7.3"
  }
 },
 "nbformat": 4,
 "nbformat_minor": 2
}
