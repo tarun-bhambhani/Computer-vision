{
 "cells": [
  {
   "cell_type": "code",
   "execution_count": 17,
   "metadata": {},
   "outputs": [],
   "source": [
    "import cv2"
   ]
  },
  {
   "cell_type": "code",
   "execution_count": 18,
   "metadata": {},
   "outputs": [
    {
     "data": {
      "text/plain": [
       "'\\nCOLORMAP_AUTUMN\\nCOLORMAP_JET\\nCOLORMAP_BONE\\nCOLORMAP_JET\\nCOLORMAP_WINTER\\nCOLORMAP_RAINBOW\\nCOLORMAP_OCEAN\\nCOLORMAP_SUMMER\\nCOLORMAP_SPRING\\nCOLORMAP_COOL\\nCOLORMAP_HSV\\nCOLORMAP_PINK\\nCOLORMAP_HOT\\n'"
      ]
     },
     "execution_count": 18,
     "metadata": {},
     "output_type": "execute_result"
    }
   ],
   "source": [
    "im_gray = cv2.imread(\"Dhoni.png\", cv2.IMREAD_GRAYSCALE)\n",
    "im_color = cv2.applyColorMap(im_gray, cv2.COLORMAP_PINK)\n",
    "\"\"\"\n",
    "COLORMAP_AUTUMN\n",
    "COLORMAP_JET\n",
    "COLORMAP_BONE\n",
    "COLORMAP_JET\n",
    "COLORMAP_WINTER\n",
    "COLORMAP_RAINBOW\n",
    "COLORMAP_OCEAN\n",
    "COLORMAP_SUMMER\n",
    "COLORMAP_SPRING\n",
    "COLORMAP_COOL\n",
    "COLORMAP_HSV\n",
    "COLORMAP_PINK\n",
    "COLORMAP_HOT\n",
    "\"\"\"\n"
   ]
  },
  {
   "cell_type": "code",
   "execution_count": 19,
   "metadata": {},
   "outputs": [],
   "source": [
    "cv2.imshow('Img1',im_color)\n",
    "cv2.waitKey(0)\n",
    "cv2.destroyAllWindows()"
   ]
  },
  {
   "cell_type": "code",
   "execution_count": 20,
   "metadata": {},
   "outputs": [],
   "source": [
    "img=cv2.imread('Dhoni.png',1)"
   ]
  },
  {
   "cell_type": "code",
   "execution_count": 21,
   "metadata": {},
   "outputs": [],
   "source": [
    "# copy image to display all 4 variations\n",
    "horizontal_img = img.copy()\n",
    "vertical_img = img.copy()\n",
    "both_img = img.copy()\n",
    " "
   ]
  },
  {
   "cell_type": "code",
   "execution_count": 22,
   "metadata": {},
   "outputs": [],
   "source": [
    "# flip img horizontally, vertically,\n",
    "# and both axes with flip()\n",
    "horizontal_img = cv2.flip( img, 0 )\n",
    "vertical_img = cv2.flip( img, 1 )\n",
    "both_img = cv2.flip( img, -1 )\n",
    " "
   ]
  },
  {
   "cell_type": "code",
   "execution_count": 23,
   "metadata": {},
   "outputs": [],
   "source": [
    "# display the images on screen with imshow()\n",
    "cv2.imshow( \"Original\", img )\n",
    "cv2.imshow( \"Horizontal flip\", horizontal_img )\n",
    "cv2.imshow( \"Vertical flip\", vertical_img )\n",
    "cv2.imshow( \"Both flip\", both_img )\n",
    "cv2.waitKey(0)\n",
    "cv2.destroyAllWindows()\n",
    " "
   ]
  },
  {
   "cell_type": "code",
   "execution_count": 24,
   "metadata": {},
   "outputs": [],
   "source": [
    "#resizing an image\n",
    "img=cv2.imread('Dhoni.png',1)\n",
    "img=cv2.resize(img,(1600,800))\n",
    "cv2.imshow('dhoni',img)\n",
    "cv2.waitKey(0)\n",
    "cv2.destroyAllWindows()"
   ]
  },
  {
   "cell_type": "code",
   "execution_count": null,
   "metadata": {},
   "outputs": [],
   "source": []
  }
 ],
 "metadata": {
  "kernelspec": {
   "display_name": "Python 3",
   "language": "python",
   "name": "python3"
  },
  "language_info": {
   "codemirror_mode": {
    "name": "ipython",
    "version": 3
   },
   "file_extension": ".py",
   "mimetype": "text/x-python",
   "name": "python",
   "nbconvert_exporter": "python",
   "pygments_lexer": "ipython3",
   "version": "3.7.3"
  }
 },
 "nbformat": 4,
 "nbformat_minor": 2
}
