{
 "cells": [
  {
   "cell_type": "code",
   "execution_count": 1,
   "metadata": {},
   "outputs": [],
   "source": [
    "import cv"
   ]
  },
  {
   "cell_type": "code",
   "execution_count": 2,
   "metadata": {},
   "outputs": [
    {
     "name": "stdout",
     "output_type": "stream",
     "text": [
      "Press Enter to capture\n",
      "Press Enter to capture\n",
      "Press Enter to capture\n",
      "Press Enter to capture\n",
      "Press Enter to capture\n",
      "Press Enter to capture\n",
      "Press Enter to capture\n",
      "Press Enter to capture\n",
      "Press Enter to capture\n",
      "Press Enter to capture\n"
     ]
    }
   ],
   "source": [
    "camera = cv2.VideoCapture(0)\n",
    "i = 0\n",
    "while i < 10:\n",
    "    input('Press Enter to capture')\n",
    "    return_value, image = camera.read()\n",
    "    cv2.imwrite('opencv'+str(i)+'.png', image)\n",
    "    i += 1\n",
    "del(camera)"
   ]
  },
  {
   "cell_type": "code",
   "execution_count": 3,
   "metadata": {},
   "outputs": [],
   "source": [
    "cap=cv2.VideoCapture(0)\n",
    "video_plugin=cv2.VideoWriter_fourcc(*'XVID') #XVID plugin .mp4 .avi in some cases mkv "
   ]
  },
  {
   "cell_type": "code",
   "execution_count": 4,
   "metadata": {},
   "outputs": [],
   "source": [
    "#now saving video in a file\n",
    "output=cv2.VideoWriter('adhoc.avi',video_plugin,25,(640,480))\n",
    "        #name of video file,video,frame speed,resolution,"
   ]
  },
  {
   "cell_type": "code",
   "execution_count": 6,
   "metadata": {},
   "outputs": [],
   "source": [
    "while(cap.isOpened()):\n",
    "    status,frame=cap.read()\n",
    "    cv2.imshow('live',frame)\n",
    "    #to save\n",
    "    output.write(frame)\n",
    "    if cv2.waitKey(25) & 0XFF == ord('q'):    #image waits for 25 sec and when q is pressed the window terminates\n",
    "        break\n",
    "cv2.destroyAllWindows() #destroying all windows having frames\n",
    "output.release() # closing file\n",
    "cap.release()\n"
   ]
  },
  {
   "cell_type": "code",
   "execution_count": null,
   "metadata": {},
   "outputs": [],
   "source": []
  }
 ],
 "metadata": {
  "kernelspec": {
   "display_name": "Python 3",
   "language": "python",
   "name": "python3"
  },
  "language_info": {
   "codemirror_mode": {
    "name": "ipython",
    "version": 3
   },
   "file_extension": ".py",
   "mimetype": "text/x-python",
   "name": "python",
   "nbconvert_exporter": "python",
   "pygments_lexer": "ipython3",
   "version": "3.7.3"
  }
 },
 "nbformat": 4,
 "nbformat_minor": 2
}
