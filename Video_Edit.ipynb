{
 "cells": [
  {
   "cell_type": "code",
   "execution_count": 1,
   "metadata": {},
   "outputs": [],
   "source": [
    "import cv2\n",
    "import numpy as np"
   ]
  },
  {
   "cell_type": "code",
   "execution_count": 2,
   "metadata": {},
   "outputs": [
    {
     "data": {
      "text/plain": [
       "1912"
      ]
     },
     "execution_count": 2,
     "metadata": {},
     "output_type": "execute_result"
    }
   ],
   "source": [
    "len(dir(cv2))"
   ]
  },
  {
   "cell_type": "code",
   "execution_count": 3,
   "metadata": {},
   "outputs": [],
   "source": [
    "cap=cv2.VideoCapture(0)"
   ]
  },
  {
   "cell_type": "code",
   "execution_count": 4,
   "metadata": {},
   "outputs": [],
   "source": [
    "while(cap.isOpened()):\n",
    "    status,frame=cap.read()\n",
    "    #frame,start pt., end pt., color, width of line\n",
    "    cv2.line(frame,(0,0),(200,250),(123,123,100),2)\n",
    "    cv2.rectangle(frame,(100,150),(700,750),(100,10,10))#if -1 is written in the end the rectangle will fill itself\n",
    "    cv2.circle(frame,(200,250),10,(190,20,20))\n",
    "    gray_frame=cv2.cvtColor(frame,cv2.COLOR_BGR2GRAY)\n",
    "    gray=np.broadcast_to(gray_frame[:,:,np.newaxis],(480,640,3))\n",
    "    con=np.concatenate((frame,gray),axis=1)\n",
    "    con1=np.concatenate((gray,frame),axis=1)\n",
    "    con2=np.concatenate((con,con1),axis=0)\n",
    "    cv2.imshow('live',con2)\n",
    "    if cv2.waitKey(10) & 0XFF == ord('q'):    #image waits for 25 sec and when q is pressed the window terminates\n",
    "        break\n",
    "cv2.destroyAllWindows() #destroying all windows having frames\n",
    "cap.release()"
   ]
  },
  {
   "cell_type": "code",
   "execution_count": 5,
   "metadata": {},
   "outputs": [],
   "source": [
    "###winscp -- to upload video from base machine to ec2 instance"
   ]
  },
  {
   "cell_type": "code",
   "execution_count": null,
   "metadata": {},
   "outputs": [],
   "source": [
    "\n"
   ]
  }
 ],
 "metadata": {
  "kernelspec": {
   "display_name": "Python 3",
   "language": "python",
   "name": "python3"
  },
  "language_info": {
   "codemirror_mode": {
    "name": "ipython",
    "version": 3
   },
   "file_extension": ".py",
   "mimetype": "text/x-python",
   "name": "python",
   "nbconvert_exporter": "python",
   "pygments_lexer": "ipython3",
   "version": "3.7.3"
  }
 },
 "nbformat": 4,
 "nbformat_minor": 2
}
